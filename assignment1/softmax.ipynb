{
 "cells": [
  {
   "cell_type": "markdown",
   "metadata": {},
   "source": [
    "# Softmax exercise\n",
    "\n",
    "*Complete and hand in this completed worksheet (including its outputs and any supporting code outside of the worksheet) with your assignment submission. For more details see the [assignments page](http://vision.stanford.edu/teaching/cs231n/assignments.html) on the course website.*\n",
    "\n",
    "This exercise is analogous to the SVM exercise. You will:\n",
    "\n",
    "- implement a fully-vectorized **loss function** for the Softmax classifier\n",
    "- implement the fully-vectorized expression for its **analytic gradient**\n",
    "- **check your implementation** with numerical gradient\n",
    "- use a validation set to **tune the learning rate and regularization** strength\n",
    "- **optimize** the loss function with **SGD**\n",
    "- **visualize** the final learned weights\n"
   ]
  },
  {
   "cell_type": "code",
   "execution_count": 1,
   "metadata": {
    "collapsed": false
   },
   "outputs": [],
   "source": [
    "import random\n",
    "import numpy as np\n",
    "from cs231n.data_utils import load_CIFAR10\n",
    "import matplotlib.pyplot as plt\n",
    "%matplotlib inline\n",
    "plt.rcParams['figure.figsize'] = (10.0, 8.0) # set default size of plots\n",
    "plt.rcParams['image.interpolation'] = 'nearest'\n",
    "plt.rcParams['image.cmap'] = 'gray'\n",
    "\n",
    "# for auto-reloading extenrnal modules\n",
    "# see http://stackoverflow.com/questions/1907993/autoreload-of-modules-in-ipython\n",
    "%load_ext autoreload\n",
    "%autoreload 2"
   ]
  },
  {
   "cell_type": "code",
   "execution_count": 2,
   "metadata": {
    "collapsed": false
   },
   "outputs": [
    {
     "name": "stdout",
     "output_type": "stream",
     "text": [
      "Train data shape:  (49000, 3073)\n",
      "Train labels shape:  (49000,)\n",
      "Validation data shape:  (1000, 3073)\n",
      "Validation labels shape:  (1000,)\n",
      "Test data shape:  (1000, 3073)\n",
      "Test labels shape:  (1000,)\n",
      "dev data shape:  (500, 3073)\n",
      "dev labels shape:  (500,)\n"
     ]
    }
   ],
   "source": [
    "def get_CIFAR10_data(num_training=49000, num_validation=1000, num_test=1000, num_dev=500):\n",
    "  \"\"\"\n",
    "  Load the CIFAR-10 dataset from disk and perform preprocessing to prepare\n",
    "  it for the linear classifier. These are the same steps as we used for the\n",
    "  SVM, but condensed to a single function.  \n",
    "  \"\"\"\n",
    "  # Load the raw CIFAR-10 data\n",
    "  cifar10_dir = 'cs231n/datasets/cifar-10-batches-py'\n",
    "  X_train, y_train, X_test, y_test = load_CIFAR10(cifar10_dir)\n",
    "  \n",
    "  # subsample the data\n",
    "  mask = range(num_training, num_training + num_validation)\n",
    "  X_val = X_train[mask]\n",
    "  y_val = y_train[mask]\n",
    "  mask = range(num_training)\n",
    "  X_train = X_train[mask]\n",
    "  y_train = y_train[mask]\n",
    "  mask = range(num_test)\n",
    "  X_test = X_test[mask]\n",
    "  y_test = y_test[mask]\n",
    "  mask = np.random.choice(num_training, num_dev, replace=False)\n",
    "  X_dev = X_train[mask]\n",
    "  y_dev = y_train[mask]\n",
    "  \n",
    "  # Preprocessing: reshape the image data into rows\n",
    "  X_train = np.reshape(X_train, (X_train.shape[0], -1))\n",
    "  X_val = np.reshape(X_val, (X_val.shape[0], -1))\n",
    "  X_test = np.reshape(X_test, (X_test.shape[0], -1))\n",
    "  X_dev = np.reshape(X_dev, (X_dev.shape[0], -1))\n",
    "  \n",
    "  # Normalize the data: subtract the mean image\n",
    "  mean_image = np.mean(X_train, axis = 0)\n",
    "  X_train -= mean_image\n",
    "  X_val -= mean_image\n",
    "  X_test -= mean_image\n",
    "  X_dev -= mean_image\n",
    "  \n",
    "  # add bias dimension and transform into columns\n",
    "  X_train = np.hstack([X_train, np.ones((X_train.shape[0], 1))])\n",
    "  X_val = np.hstack([X_val, np.ones((X_val.shape[0], 1))])\n",
    "  X_test = np.hstack([X_test, np.ones((X_test.shape[0], 1))])\n",
    "  X_dev = np.hstack([X_dev, np.ones((X_dev.shape[0], 1))])\n",
    "  \n",
    "  return X_train, y_train, X_val, y_val, X_test, y_test, X_dev, y_dev\n",
    "\n",
    "\n",
    "# Invoke the above function to get our data.\n",
    "X_train, y_train, X_val, y_val, X_test, y_test, X_dev, y_dev = get_CIFAR10_data()\n",
    "print 'Train data shape: ', X_train.shape\n",
    "print 'Train labels shape: ', y_train.shape\n",
    "print 'Validation data shape: ', X_val.shape\n",
    "print 'Validation labels shape: ', y_val.shape\n",
    "print 'Test data shape: ', X_test.shape\n",
    "print 'Test labels shape: ', y_test.shape\n",
    "print 'dev data shape: ', X_dev.shape\n",
    "print 'dev labels shape: ', y_dev.shape"
   ]
  },
  {
   "cell_type": "markdown",
   "metadata": {},
   "source": [
    "## Softmax Classifier\n",
    "\n",
    "Your code for this section will all be written inside **cs231n/classifiers/softmax.py**. \n"
   ]
  },
  {
   "cell_type": "code",
   "execution_count": 16,
   "metadata": {
    "collapsed": false
   },
   "outputs": [
    {
     "name": "stdout",
     "output_type": "stream",
     "text": [
      "loss: 2.387768\n",
      "sanity check: 2.302585\n"
     ]
    }
   ],
   "source": [
    "# First implement the naive softmax loss function with nested loops.\n",
    "# Open the file cs231n/classifiers/softmax.py and implement the\n",
    "# softmax_loss_naive function.\n",
    "\n",
    "from cs231n.classifiers.softmax import softmax_loss_naive\n",
    "import time\n",
    "\n",
    "# Generate a random softmax weight matrix and use it to compute the loss.\n",
    "W = np.random.randn(3073, 10) * 0.0001\n",
    "loss, grad = softmax_loss_naive(W, X_dev, y_dev, 0.0)\n",
    "\n",
    "# As a rough sanity check, our loss should be something close to -log(0.1).\n",
    "print 'loss: %f' % loss\n",
    "print 'sanity check: %f' % (-np.log(0.1))"
   ]
  },
  {
   "cell_type": "markdown",
   "metadata": {},
   "source": [
    "## Inline Question 1:\n",
    "Why do we expect our loss to be close to -log(0.1)? Explain briefly.**\n",
    "\n",
    "**Your answer:** *在未经训练时，由于权重是随机生成的，因此应该每个分类的概率都是10%，因此 loss应该接近 -log (0.1) （在没有加正则化惩罚的情况下）*\n"
   ]
  },
  {
   "cell_type": "markdown",
   "metadata": {},
   "source": [
    "Softmax损失函数如下：\n",
    "$$ L = \\frac{1}{N}\\sum_{i}{L}_{i}+\\frac{1}{2}\\lambda R\\left( W \\right)$$\n",
    "其中\n",
    "$$R\\left( W \\right)=\\sum_{p}\\sum_{k}{W}_{p,k}^2$$\n",
    "\n",
    "$${L}_{i} =-\\log{p}_{{y}_{i}} =-\\log \\frac{e^{{s}_{{y}_{i}}} }{\\sum_{k}{e^{{s}_{k}}} } = -{s}_{{y}_{i}} + \\log\\sum_{k}{e^{{s}_{k}}}$$\n",
    "\n",
    "$${s}_{k} = {X}_{i,:}{W}_{:,j}$$\n",
    "\n",
    "$$\\\\$$\n",
    "\n",
    "带循环的偏导数求解公式如下：\n",
    "$$\\frac{\\partial L}{\\partial W} \n",
    "= \\frac{1}{N}\\sum_{i}{\\frac{\\partial {L}_{i}}{\\partial W}} + \\frac{1}{2}\\lambda\\frac{\\partial R\\left( W \\right)}{\\partial W} \n",
    "= \\frac{1}{N}\\sum_{i}\\sum_{j}\\frac{\\partial {{L}_{i}}}{\\partial {W}_{:,j}} + \\lambda W\n",
    "$$\n",
    "\n",
    "根据复合函数求导的链式法则：\n",
    "$$\n",
    "\\frac{\\partial {L}_{i}}{\\partial {W}_{:,j}} \n",
    "= \\frac{\\partial {L}_{i}}{\\partial {s}_{j}}\\frac{\\partial {s}_{j}}{\\partial {W}_{:,j}} \n",
    "$$\n",
    "物理含义是：第i个样本对dW第j列的贡献。\n",
    "\n",
    "\n",
    "(1)当$j=y_i$时\n",
    "$$\\frac{\\partial {L}_{i}}{\\partial {s}_{j}} = -1 + \\frac{e^{{s}_{j}}}{\\sum_{k}{e^{{s}_{k}}}}$$\n",
    "(2)当$j \\neq y_i$时\n",
    "$$\\frac{\\partial {L}_{i}}{\\partial {s}_{j}} = \\frac{e^{{s}_{j}}}{\\sum_{k}{e^{{s}_{k}}}}$$\n",
    "综合(1)(2)可得\n",
    "$$\\frac{\\partial {L}_{i}}{\\partial {s}_{j}} = \\frac{e^{{s}_{j}}}{\\sum_{k}{e^{{s}_{k}}}} - 1\\{j=={y}_{i}\\}$$\n",
    "\n",
    "而$$\\frac{\\partial {s}_{j}}{\\partial {W}_{:,j}} = {X}_{i,:}$$\n",
    "因此\n",
    "$$\\frac{\\partial {L}_{i}}{\\partial {W}_{:,j}} = \\frac{\\partial {L}_{i}}{\\partial {s}_{j}}\\frac{\\partial {s}_{j}}{\\partial {W}_{:,j}} = \\left( \\frac{e^{{s}_{j}}}{\\sum_{k}{e^{{s}_{k}}}} - 1\\{j=={y}_{i}\\}\\right) {X}_{i,:} $$\n"
   ]
  },
  {
   "cell_type": "code",
   "execution_count": 21,
   "metadata": {
    "collapsed": false
   },
   "outputs": [
    {
     "name": "stdout",
     "output_type": "stream",
     "text": [
      "numerical: 1.357269 analytic: 1.357269, relative error: 3.975559e-08\n",
      "numerical: -0.452339 analytic: -0.452339, relative error: 2.504192e-08\n",
      "numerical: -0.504751 analytic: -0.504751, relative error: 5.357655e-08\n",
      "numerical: 0.213785 analytic: 0.213785, relative error: 1.298882e-07\n",
      "numerical: -2.432606 analytic: -2.432606, relative error: 1.627215e-09\n",
      "numerical: 1.715004 analytic: 1.715004, relative error: 1.870005e-09\n",
      "numerical: 4.336811 analytic: 4.336811, relative error: 5.421456e-09\n",
      "numerical: 1.305339 analytic: 1.305338, relative error: 5.832775e-08\n",
      "numerical: -1.618296 analytic: -1.618296, relative error: 5.508407e-09\n",
      "numerical: 1.202735 analytic: 1.202735, relative error: 1.577266e-08\n",
      "numerical: -3.084132 analytic: -3.084132, relative error: 6.668075e-09\n",
      "numerical: 0.294317 analytic: 0.294317, relative error: 1.065498e-07\n",
      "numerical: -0.151555 analytic: -0.151555, relative error: 3.608114e-07\n",
      "numerical: 0.579429 analytic: 0.579429, relative error: 6.032291e-08\n",
      "numerical: -0.630838 analytic: -0.630838, relative error: 1.796738e-07\n",
      "numerical: -0.787158 analytic: -0.787158, relative error: 1.184639e-08\n",
      "numerical: 0.694895 analytic: 0.694895, relative error: 7.467690e-08\n",
      "numerical: -0.809783 analytic: -0.809783, relative error: 4.104451e-08\n",
      "numerical: 1.992882 analytic: 1.992882, relative error: 2.075450e-09\n",
      "numerical: -2.280878 analytic: -2.280878, relative error: 1.949652e-08\n"
     ]
    }
   ],
   "source": [
    "# Complete the implementation of softmax_loss_naive and implement a (naive)\n",
    "# version of the gradient that uses nested loops.\n",
    "loss, grad = softmax_loss_naive(W, X_dev, y_dev, 0.0)\n",
    "\n",
    "# As we did for the SVM, use numeric gradient checking as a debugging tool.\n",
    "# The numeric gradient should be close to the analytic gradient.\n",
    "from cs231n.gradient_check import grad_check_sparse\n",
    "f = lambda w: softmax_loss_naive(w, X_dev, y_dev, 0.0)[0]\n",
    "grad_numerical = grad_check_sparse(f, W, grad, 10)\n",
    "\n",
    "# similar to SVM case, do another gradient check with regularization\n",
    "loss, grad = softmax_loss_naive(W, X_dev, y_dev, 1e2)\n",
    "f = lambda w: softmax_loss_naive(w, X_dev, y_dev, 1e2)[0]\n",
    "grad_numerical = grad_check_sparse(f, W, grad, 10)"
   ]
  },
  {
   "cell_type": "code",
   "execution_count": 35,
   "metadata": {
    "collapsed": false
   },
   "outputs": [
    {
     "name": "stdout",
     "output_type": "stream",
     "text": [
      "naive loss: 2.387768e+00 computed in 0.093735s\n",
      "vectorized loss: 2.387768e+00 computed in 0.007767s\n",
      "Loss difference: 0.000000\n",
      "Gradient difference: 0.000000\n"
     ]
    }
   ],
   "source": [
    "# Now that we have a naive implementation of the softmax loss function and its gradient,\n",
    "# implement a vectorized version in softmax_loss_vectorized.\n",
    "# The two versions should compute the same results, but the vectorized version should be\n",
    "# much faster.\n",
    "tic = time.time()\n",
    "loss_naive, grad_naive = softmax_loss_naive(W, X_dev, y_dev, 0.00001)\n",
    "toc = time.time()\n",
    "print 'naive loss: %e computed in %fs' % (loss_naive, toc - tic)\n",
    "\n",
    "from cs231n.classifiers.softmax import softmax_loss_vectorized\n",
    "tic = time.time()\n",
    "loss_vectorized, grad_vectorized = softmax_loss_vectorized(W, X_dev, y_dev, 0.00001)\n",
    "toc = time.time()\n",
    "print 'vectorized loss: %e computed in %fs' % (loss_vectorized, toc - tic)\n",
    "\n",
    "# As we did for the SVM, we use the Frobenius norm to compare the two versions\n",
    "# of the gradient.\n",
    "grad_difference = np.linalg.norm(grad_naive - grad_vectorized, ord='fro')\n",
    "print 'Loss difference: %f' % np.abs(loss_naive - loss_vectorized)\n",
    "print 'Gradient difference: %f' % grad_difference"
   ]
  },
  {
   "cell_type": "code",
   "execution_count": 53,
   "metadata": {
    "collapsed": false
   },
   "outputs": [
    {
     "name": "stdout",
     "output_type": "stream",
     "text": [
      "iteration 0 / 1000: loss 81.478627\n",
      "iteration 100 / 1000: loss 37.549041\n",
      "iteration 200 / 1000: loss 18.423449\n",
      "iteration 300 / 1000: loss 9.562037\n",
      "iteration 400 / 1000: loss 5.498522\n",
      "iteration 500 / 1000: loss 3.579415\n",
      "iteration 600 / 1000: loss 2.733027\n",
      "iteration 700 / 1000: loss 2.286161\n",
      "iteration 800 / 1000: loss 2.092969\n",
      "iteration 900 / 1000: loss 1.925105\n",
      "iteration 0 / 1000: loss 82.980953\n",
      "iteration 100 / 1000: loss 37.928983\n",
      "iteration 200 / 1000: loss 18.311212\n",
      "iteration 300 / 1000: loss 9.470251\n",
      "iteration 400 / 1000: loss 5.289419\n",
      "iteration 500 / 1000: loss 3.488309\n",
      "iteration 600 / 1000: loss 2.560949\n",
      "iteration 700 / 1000: loss 2.221057\n",
      "iteration 800 / 1000: loss 2.045536\n",
      "iteration 900 / 1000: loss 2.009947\n",
      "iteration 0 / 1000: loss 82.108416\n",
      "iteration 100 / 1000: loss 37.419340\n",
      "iteration 200 / 1000: loss 18.073249\n",
      "iteration 300 / 1000: loss 9.360385\n",
      "iteration 400 / 1000: loss 5.367885\n",
      "iteration 500 / 1000: loss 3.477782\n",
      "iteration 600 / 1000: loss 2.616635\n",
      "iteration 700 / 1000: loss 2.214248\n",
      "iteration 800 / 1000: loss 2.048849\n",
      "iteration 900 / 1000: loss 1.958324\n",
      "iteration 0 / 1000: loss 82.194602\n",
      "iteration 100 / 1000: loss 36.549968\n",
      "iteration 200 / 1000: loss 17.628774\n",
      "iteration 300 / 1000: loss 9.043236\n",
      "iteration 400 / 1000: loss 5.112448\n",
      "iteration 500 / 1000: loss 3.322043\n",
      "iteration 600 / 1000: loss 2.426305\n",
      "iteration 700 / 1000: loss 2.272008\n",
      "iteration 800 / 1000: loss 2.100562\n",
      "iteration 900 / 1000: loss 1.898938\n",
      "lr 7.700000e-07 reg 4.900000e+03 train accuracy: 0.377551 val accuracy: 0.393000\n",
      "lr 7.700000e-07 reg 5.000000e+03 train accuracy: 0.389551 val accuracy: 0.395000\n",
      "lr 7.800000e-07 reg 4.900000e+03 train accuracy: 0.384449 val accuracy: 0.389000\n",
      "lr 7.800000e-07 reg 5.000000e+03 train accuracy: 0.379959 val accuracy: 0.384000\n",
      "best validation accuracy achieved during cross-validation: 0.395000\n"
     ]
    }
   ],
   "source": [
    "# Use the validation set to tune hyperparameters (regularization strength and\n",
    "# learning rate). You should experiment with different ranges for the learning\n",
    "# rates and regularization strengths; if you are careful you should be able to\n",
    "# get a classification accuracy of over 0.35 on the validation set.\n",
    "from cs231n.classifiers import Softmax\n",
    "results = {}\n",
    "best_val = -1\n",
    "best_softmax = None\n",
    "learning_rates = [7.7e-7, 7.8e-7]\n",
    "regularization_strengths = [4.9e3, 5e3]\n",
    "\n",
    "################################################################################\n",
    "# TODO:                                                                        #\n",
    "# Use the validation set to set the learning rate and regularization strength. #\n",
    "# This should be identical to the validation that you did for the SVM; save    #\n",
    "# the best trained softmax classifer in best_softmax.                          #\n",
    "################################################################################\n",
    "for lr in learning_rates:\n",
    "    for rs in regularization_strengths:\n",
    "        model = Softmax()\n",
    "        model.train(X_train, y_train, learning_rate=lr, reg=rs, \n",
    "                    num_iters=1000, batch_size=200, verbose=True)\n",
    "        \n",
    "        train_result = model.predict(X_train)\n",
    "        train_accuracy = np.mean(train_result == y_train)\n",
    "\n",
    "        val_result = model.predict(X_val)\n",
    "        val_accuracy = np.mean(val_result == y_val)\n",
    "        \n",
    "        results[(lr ,rs)] = (train_accuracy, val_accuracy)\n",
    "        if best_val < val_accuracy:\n",
    "            best_val = val_accuracy\n",
    "            best_softmax = model\n",
    "        \n",
    "################################################################################\n",
    "#                              END OF YOUR CODE                                #\n",
    "################################################################################\n",
    "    \n",
    "# Print out results.\n",
    "for lr, reg in sorted(results):\n",
    "    train_accuracy, val_accuracy = results[(lr, reg)]\n",
    "    print 'lr %e reg %e train accuracy: %f val accuracy: %f' % (\n",
    "                lr, reg, train_accuracy, val_accuracy)\n",
    "    \n",
    "print 'best validation accuracy achieved during cross-validation: %f' % best_val"
   ]
  },
  {
   "cell_type": "code",
   "execution_count": 54,
   "metadata": {
    "collapsed": false
   },
   "outputs": [
    {
     "name": "stdout",
     "output_type": "stream",
     "text": [
      "softmax on raw pixels final test set accuracy: 0.378000\n"
     ]
    }
   ],
   "source": [
    "# evaluate on test set\n",
    "# Evaluate the best softmax on test set\n",
    "y_test_pred = best_softmax.predict(X_test)\n",
    "test_accuracy = np.mean(y_test == y_test_pred)\n",
    "print 'softmax on raw pixels final test set accuracy: %f' % (test_accuracy, )"
   ]
  },
  {
   "cell_type": "code",
   "execution_count": 55,
   "metadata": {
    "collapsed": false
   },
   "outputs": [
    {
     "data": {
      "image/png": "[encoded data removed]",
      "text/plain": [
       "<matplotlib.figure.Figure at 0x7fc570f36ad0>"
      ]
     },
     "metadata": {},
     "output_type": "display_data"
    }
   ],
   "source": [
    "# Visualize the learned weights for each class\n",
    "w = best_softmax.W[:-1,:] # strip out the bias\n",
    "w = w.reshape(32, 32, 3, 10)\n",
    "\n",
    "w_min, w_max = np.min(w), np.max(w)\n",
    "\n",
    "classes = ['plane', 'car', 'bird', 'cat', 'deer', 'dog', 'frog', 'horse', 'ship', 'truck']\n",
    "for i in xrange(10):\n",
    "  plt.subplot(2, 5, i + 1)\n",
    "  \n",
    "  # Rescale the weights to be between 0 and 255\n",
    "  wimg = 255.0 * (w[:, :, :, i].squeeze() - w_min) / (w_max - w_min)\n",
    "  plt.imshow(wimg.astype('uint8'))\n",
    "  plt.axis('off')\n",
    "  plt.title(classes[i])"
   ]
  }
 ],
 "metadata": {
  "kernelspec": {
   "display_name": "Python 2",
   "language": "python",
   "name": "python2"
  },
  "language_info": {
   "codemirror_mode": {
    "name": "ipython",
    "version": 2
   },
   "file_extension": ".py",
   "mimetype": "text/x-python",
   "name": "python",
   "nbconvert_exporter": "python",
   "pygments_lexer": "ipython2",
   "version": "2.7.12"
  }
 },
 "nbformat": 4,
 "nbformat_minor": 0
}
