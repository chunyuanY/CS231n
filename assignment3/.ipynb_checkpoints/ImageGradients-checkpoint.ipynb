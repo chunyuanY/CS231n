{
 "cells": [
  {
   "cell_type": "markdown",
   "metadata": {},
   "source": [
    "# Image Gradients\n",
    "In this notebook we'll introduce the TinyImageNet dataset and a deep CNN that has been pretrained on this dataset. You will use this pretrained model to compute gradients with respect to images, and use these image gradients to produce class saliency maps and fooling images."
   ]
  },
  {
   "cell_type": "code",
   "execution_count": 1,
   "metadata": {
    "collapsed": false
   },
   "outputs": [],
   "source": [
    "# As usual, a bit of setup\n",
    "\n",
    "import time, os, json\n",
    "import numpy as np\n",
    "import skimage.io\n",
    "import matplotlib.pyplot as plt\n",
    "\n",
    "from cs231n.classifiers.pretrained_cnn import PretrainedCNN\n",
    "from cs231n.data_utils import load_tiny_imagenet\n",
    "from cs231n.image_utils import blur_image, deprocess_image\n",
    "\n",
    "%matplotlib inline\n",
    "plt.rcParams['figure.figsize'] = (10.0, 8.0) # set default size of plots\n",
    "plt.rcParams['image.interpolation'] = 'nearest'\n",
    "plt.rcParams['image.cmap'] = 'gray'\n",
    "\n",
    "# for auto-reloading external modules\n",
    "# see http://stackoverflow.com/questions/1907993/autoreload-of-modules-in-ipython\n",
    "%load_ext autoreload\n",
    "%autoreload 2"
   ]
  },
  {
   "cell_type": "markdown",
   "metadata": {},
   "source": [
    "# Introducing TinyImageNet\n",
    "\n",
    "The TinyImageNet dataset is a subset of the ILSVRC-2012 classification dataset. It consists of 200 object classes, and for each object class it provides 500 training images, 50 validation images, and 50 test images. All images have been downsampled to 64x64 pixels. We have provided the labels for all training and validation images, but have withheld the labels for the test images.\n",
    "\n",
    "We have further split the full TinyImageNet dataset into two equal pieces, each with 100 object classes. We refer to these datasets as TinyImageNet-100-A and TinyImageNet-100-B; for this exercise you will work with TinyImageNet-100-A.\n",
    "\n",
    "To download the data, go into the `cs231n/datasets` directory and run the script `get_tiny_imagenet_a.sh`. Then run the following code to load the TinyImageNet-100-A dataset into memory.\n",
    "\n",
    "NOTE: The full TinyImageNet-100-A dataset will take up about 250MB of disk space, and loading the full TinyImageNet-100-A dataset into memory will use about 2.8GB of memory."
   ]
  },
  {
   "cell_type": "code",
   "execution_count": 2,
   "metadata": {
    "collapsed": false
   },
   "outputs": [
    {
     "name": "stdout",
     "output_type": "stream",
     "text": [
      "loading training data for synset 20 / 100\n",
      "loading training data for synset 40 / 100\n",
      "loading training data for synset 60 / 100\n",
      "loading training data for synset 80 / 100\n",
      "loading training data for synset 100 / 100\n"
     ]
    }
   ],
   "source": [
    "data = load_tiny_imagenet('cs231n/datasets/tiny-imagenet-100-A', subtract_mean=True)"
   ]
  },
  {
   "cell_type": "markdown",
   "metadata": {},
   "source": [
    "# TinyImageNet-100-A classes\n",
    "Since ImageNet is based on the WordNet ontology(实体论), each class in ImageNet (and TinyImageNet) actually has several different names. For example \"pop bottle\" and \"soda bottle\" are both valid names for the same class. Run the following to see a list of all classes in TinyImageNet-100-A:"
   ]
  },
  {
   "cell_type": "code",
   "execution_count": 3,
   "metadata": {
    "collapsed": false,
    "scrolled": false
   },
   "outputs": [
    {
     "name": "stdout",
     "output_type": "stream",
     "text": [
      "0 \"Egyptian cat\"\n",
      "1 \"reel\"\n",
      "2 \"volleyball\"\n",
      "3 \"rocking chair\" \"rocker\"\n",
      "4 \"lemon\"\n",
      "5 \"bullfrog\" \"Rana catesbeiana\"\n",
      "6 \"basketball\"\n",
      "7 \"cliff\" \"drop\" \"drop-off\"\n",
      "8 \"espresso\"\n",
      "9 \"plunger\" \"plumber's helper\"\n",
      "10 \"parking meter\"\n",
      "11 \"German shepherd\" \"German shepherd dog\" \"German police dog\" \"alsatian\"\n",
      "12 \"dining table\" \"board\"\n",
      "13 \"monarch\" \"monarch butterfly\" \"milkweed butterfly\" \"Danaus plexippus\"\n",
      "14 \"brown bear\" \"bruin\" \"Ursus arctos\"\n",
      "15 \"school bus\"\n",
      "16 \"pizza\" \"pizza pie\"\n",
      "17 \"guinea pig\" \"Cavia cobaya\"\n",
      "18 \"umbrella\"\n",
      "19 \"organ\" \"pipe organ\"\n",
      "20 \"oboe\" \"hautboy\" \"hautbois\"\n",
      "21 \"maypole\"\n",
      "22 \"goldfish\" \"Carassius auratus\"\n",
      "23 \"potpie\"\n",
      "24 \"hourglass\"\n",
      "25 \"seashore\" \"coast\" \"seacoast\" \"sea-coast\"\n",
      "26 \"computer keyboard\" \"keypad\"\n",
      "27 \"Arabian camel\" \"dromedary\" \"Camelus dromedarius\"\n",
      "28 \"ice cream\" \"icecream\"\n",
      "29 \"nail\"\n",
      "30 \"space heater\"\n",
      "31 \"cardigan\"\n",
      "32 \"baboon\"\n",
      "33 \"snail\"\n",
      "34 \"coral reef\"\n",
      "35 \"albatross\" \"mollymawk\"\n",
      "36 \"spider web\" \"spider's web\"\n",
      "37 \"sea cucumber\" \"holothurian\"\n",
      "38 \"backpack\" \"back pack\" \"knapsack\" \"packsack\" \"rucksack\" \"haversack\"\n",
      "39 \"Labrador retriever\"\n",
      "40 \"pretzel\"\n",
      "41 \"king penguin\" \"Aptenodytes patagonica\"\n",
      "42 \"sulphur butterfly\" \"sulfur butterfly\"\n",
      "43 \"tarantula\"\n",
      "44 \"lesser panda\" \"red panda\" \"panda\" \"bear cat\" \"cat bear\" \"Ailurus fulgens\"\n",
      "45 \"pop bottle\" \"soda bottle\"\n",
      "46 \"banana\"\n",
      "47 \"sock\"\n",
      "48 \"cockroach\" \"roach\"\n",
      "49 \"projectile\" \"missile\"\n",
      "50 \"beer bottle\"\n",
      "51 \"mantis\" \"mantid\"\n",
      "52 \"freight car\"\n",
      "53 \"guacamole\"\n",
      "54 \"remote control\" \"remote\"\n",
      "55 \"European fire salamander\" \"Salamandra salamandra\"\n",
      "56 \"lakeside\" \"lakeshore\"\n",
      "57 \"chimpanzee\" \"chimp\" \"Pan troglodytes\"\n",
      "58 \"pay-phone\" \"pay-station\"\n",
      "59 \"fur coat\"\n",
      "60 \"alp\"\n",
      "61 \"lampshade\" \"lamp shade\"\n",
      "62 \"torch\"\n",
      "63 \"abacus\"\n",
      "64 \"moving van\"\n",
      "65 \"barrel\" \"cask\"\n",
      "66 \"tabby\" \"tabby cat\"\n",
      "67 \"goose\"\n",
      "68 \"koala\" \"koala bear\" \"kangaroo bear\" \"native bear\" \"Phascolarctos cinereus\"\n",
      "69 \"bullet train\" \"bullet\"\n",
      "70 \"CD player\"\n",
      "71 \"teapot\"\n",
      "72 \"birdhouse\"\n",
      "73 \"gazelle\"\n",
      "74 \"academic gown\" \"academic robe\" \"judge's robe\"\n",
      "75 \"tractor\"\n",
      "76 \"ladybug\" \"ladybeetle\" \"lady beetle\" \"ladybird\" \"ladybird beetle\"\n",
      "77 \"miniskirt\" \"mini\"\n",
      "78 \"golden retriever\"\n",
      "79 \"triumphal arch\"\n",
      "80 \"cannon\"\n",
      "81 \"neck brace\"\n",
      "82 \"sombrero\"\n",
      "83 \"gasmask\" \"respirator\" \"gas helmet\"\n",
      "84 \"candle\" \"taper\" \"wax light\"\n",
      "85 \"desk\"\n",
      "86 \"frying pan\" \"frypan\" \"skillet\"\n",
      "87 \"bee\"\n",
      "88 \"dam\" \"dike\" \"dyke\"\n",
      "89 \"spiny lobster\" \"langouste\" \"rock lobster\" \"crawfish\" \"crayfish\" \"sea crawfish\"\n",
      "90 \"police van\" \"police wagon\" \"paddy wagon\" \"patrol wagon\" \"wagon\" \"black Maria\"\n",
      "91 \"iPod\"\n",
      "92 \"punching bag\" \"punch bag\" \"punching ball\" \"punchball\"\n",
      "93 \"beacon\" \"lighthouse\" \"beacon light\" \"pharos\"\n",
      "94 \"jellyfish\"\n",
      "95 \"wok\"\n",
      "96 \"potter's wheel\"\n",
      "97 \"sandal\"\n",
      "98 \"pill bottle\"\n",
      "99 \"butcher shop\" \"meat market\"\n"
     ]
    }
   ],
   "source": [
    "for i, names in enumerate(data['class_names']):\n",
    "  print(i, ' '.join('\"%s\"' % name for name in names))"
   ]
  },
  {
   "cell_type": "markdown",
   "metadata": {},
   "source": [
    "# Visualize Examples\n",
    "Run the following to visualize some example images from random classses in TinyImageNet-100-A. It selects classes and images randomly, so you can run it several times to see different images."
   ]
  },
  {
   "cell_type": "code",
   "execution_count": 17,
   "metadata": {
    "collapsed": false
   },
   "outputs": [
    {
     "ename": "ValueError",
     "evalue": "operands could not be broadcast together with shapes (3,64,64) (3,) ",
     "output_type": "error",
     "traceback": [
      "\u001b[0;31m---------------------------------------------------------------------------\u001b[0m",
      "\u001b[0;31mValueError\u001b[0m                                Traceback (most recent call last)",
      "\u001b[0;32m<ipython-input-17-57350c20679f>\u001b[0m in \u001b[0;36m<module>\u001b[0;34m()\u001b[0m\n\u001b[1;32m     10\u001b[0m   \u001b[0;32mfor\u001b[0m \u001b[0mj\u001b[0m\u001b[0;34m,\u001b[0m \u001b[0mtrain_idx\u001b[0m \u001b[0;32min\u001b[0m \u001b[0menumerate\u001b[0m\u001b[0;34m(\u001b[0m\u001b[0mtrain_idxs\u001b[0m\u001b[0;34m)\u001b[0m\u001b[0;34m:\u001b[0m\u001b[0;34m\u001b[0m\u001b[0m\n\u001b[1;32m     11\u001b[0m     \u001b[0;31m#img = deprocess_image(data['X_train'][train_idx], data['mean_image'])\u001b[0m\u001b[0;34m\u001b[0m\u001b[0;34m\u001b[0m\u001b[0m\n\u001b[0;32m---> 12\u001b[0;31m     \u001b[0mimg\u001b[0m \u001b[0;34m=\u001b[0m \u001b[0mdeprocess_image\u001b[0m\u001b[0;34m(\u001b[0m\u001b[0mdata\u001b[0m\u001b[0;34m[\u001b[0m\u001b[0;34m'X_train'\u001b[0m\u001b[0;34m]\u001b[0m\u001b[0;34m[\u001b[0m\u001b[0mtrain_idx\u001b[0m\u001b[0;34m]\u001b[0m\u001b[0;34m)\u001b[0m\u001b[0;34m\u001b[0m\u001b[0m\n\u001b[0m\u001b[1;32m     13\u001b[0m     \u001b[0mplt\u001b[0m\u001b[0;34m.\u001b[0m\u001b[0msubplot\u001b[0m\u001b[0;34m(\u001b[0m\u001b[0mexamples_per_class\u001b[0m\u001b[0;34m,\u001b[0m \u001b[0mclasses_to_show\u001b[0m\u001b[0;34m,\u001b[0m \u001b[0;36m1\u001b[0m \u001b[0;34m+\u001b[0m \u001b[0mi\u001b[0m \u001b[0;34m+\u001b[0m \u001b[0mclasses_to_show\u001b[0m \u001b[0;34m*\u001b[0m \u001b[0mj\u001b[0m\u001b[0;34m)\u001b[0m\u001b[0;34m\u001b[0m\u001b[0m\n\u001b[1;32m     14\u001b[0m     \u001b[0;32mif\u001b[0m \u001b[0mj\u001b[0m \u001b[0;34m==\u001b[0m \u001b[0;36m0\u001b[0m\u001b[0;34m:\u001b[0m\u001b[0;34m\u001b[0m\u001b[0m\n",
      "\u001b[0;32m/home/ciel/Project/CS231n-2017/assignment3/cs231n/image_utils.py\u001b[0m in \u001b[0;36mdeprocess_image\u001b[0;34m(img, rescale)\u001b[0m\n\u001b[1;32m     47\u001b[0m \u001b[0;32mdef\u001b[0m \u001b[0mdeprocess_image\u001b[0m\u001b[0;34m(\u001b[0m\u001b[0mimg\u001b[0m\u001b[0;34m,\u001b[0m \u001b[0mrescale\u001b[0m\u001b[0;34m=\u001b[0m\u001b[0;32mFalse\u001b[0m\u001b[0;34m)\u001b[0m\u001b[0;34m:\u001b[0m\u001b[0;34m\u001b[0m\u001b[0m\n\u001b[1;32m     48\u001b[0m     \u001b[0;34m\"\"\"Undo preprocessing on an image and convert back to uint8.\"\"\"\u001b[0m\u001b[0;34m\u001b[0m\u001b[0m\n\u001b[0;32m---> 49\u001b[0;31m     \u001b[0mimg\u001b[0m \u001b[0;34m=\u001b[0m \u001b[0;34m(\u001b[0m\u001b[0mimg\u001b[0m \u001b[0;34m*\u001b[0m \u001b[0mSQUEEZENET_STD\u001b[0m \u001b[0;34m+\u001b[0m \u001b[0mSQUEEZENET_MEAN\u001b[0m\u001b[0;34m)\u001b[0m\u001b[0;34m\u001b[0m\u001b[0m\n\u001b[0m\u001b[1;32m     50\u001b[0m     \u001b[0;32mif\u001b[0m \u001b[0mrescale\u001b[0m\u001b[0;34m:\u001b[0m\u001b[0;34m\u001b[0m\u001b[0m\n\u001b[1;32m     51\u001b[0m         \u001b[0mvmin\u001b[0m\u001b[0;34m,\u001b[0m \u001b[0mvmax\u001b[0m \u001b[0;34m=\u001b[0m \u001b[0mimg\u001b[0m\u001b[0;34m.\u001b[0m\u001b[0mmin\u001b[0m\u001b[0;34m(\u001b[0m\u001b[0;34m)\u001b[0m\u001b[0;34m,\u001b[0m \u001b[0mimg\u001b[0m\u001b[0;34m.\u001b[0m\u001b[0mmax\u001b[0m\u001b[0;34m(\u001b[0m\u001b[0;34m)\u001b[0m\u001b[0;34m\u001b[0m\u001b[0m\n",
      "\u001b[0;31mValueError\u001b[0m: operands could not be broadcast together with shapes (3,64,64) (3,) "
     ]
    }
   ],
   "source": [
    "# Visualize some examples of the training data\n",
    "classes_to_show = 7\n",
    "examples_per_class = 5\n",
    "\n",
    "class_idxs = np.random.choice(len(data['class_names']), size=classes_to_show, replace=False)\n",
    "for i, class_idx in enumerate(class_idxs):\n",
    "  train_idxs, = np.nonzero(data['y_train'] == class_idx)\n",
    "  train_idxs = np.random.choice(train_idxs, size=examples_per_class, replace=False)\n",
    "  \n",
    "  for j, train_idx in enumerate(train_idxs):\n",
    "    img = deprocess_image(data['X_train'][train_idx], data['mean_image'])\n",
    "    plt.subplot(examples_per_class, classes_to_show, 1 + i + classes_to_show * j)\n",
    "    if j == 0:\n",
    "      plt.title(data['class_names'][class_idx][0])\n",
    "    plt.imshow(img)\n",
    "    plt.gca().axis('off')\n",
    "\n",
    "plt.show()"
   ]
  },
  {
   "cell_type": "markdown",
   "metadata": {},
   "source": [
    "# Pretrained model\n",
    "We have trained a deep CNN for you on the TinyImageNet-100-A dataset that we will use for image visualization. The model has 9 convolutional layers (with spatial batch normalization) and 1 fully-connected hidden layer (with batch normalization).\n",
    "\n",
    "To get the model, run the script `get_pretrained_model.sh` from the `cs231n/datasets` directory. After doing so, run the following to load the model from disk."
   ]
  },
  {
   "cell_type": "code",
   "execution_count": 5,
   "metadata": {
    "collapsed": false
   },
   "outputs": [
    {
     "name": "stderr",
     "output_type": "stream",
     "text": [
      "/home/ciel/Project/CS231n-2017/assignment3/cs231n/classifiers/pretrained_cnn.py:52: VisibleDeprecationWarning: using a non-integer number instead of an integer will result in an error in the future\n",
      "  self.params['W%d' % (i + 2)] = np.sqrt(2.0 / fan_in) * np.random.randn(fan_in, hidden_dim)\n"
     ]
    }
   ],
   "source": [
    "model = PretrainedCNN(h5_file='cs231n/datasets/pretrained_model.h5')"
   ]
  },
  {
   "cell_type": "markdown",
   "metadata": {},
   "source": [
    "## Pretrained model performance\n",
    "Run the following to test the performance of the pretrained model on some random training and validation set images. You should see training accuracy around 90% and validation accuracy around 60%; this indicates a bit of overfitting, but it should work for our visualization experiments."
   ]
  },
  {
   "cell_type": "code",
   "execution_count": 6,
   "metadata": {
    "collapsed": false
   },
   "outputs": [
    {
     "name": "stdout",
     "output_type": "stream",
     "text": [
      "Training accuracy:  0.92\n",
      "Validation accuracy:  0.68\n"
     ]
    }
   ],
   "source": [
    "batch_size = 100\n",
    "\n",
    "# Test the model on training data\n",
    "mask = np.random.randint(data['X_train'].shape[0], size=batch_size)\n",
    "X, y = data['X_train'][mask], data['y_train'][mask]\n",
    "y_pred = model.loss(X).argmax(axis=1)\n",
    "print('Training accuracy: ', (y_pred == y).mean())\n",
    "\n",
    "# Test the model on validation data\n",
    "mask = np.random.randint(data['X_val'].shape[0], size=batch_size)\n",
    "X, y = data['X_val'][mask], data['y_val'][mask]\n",
    "y_pred = model.loss(X).argmax(axis=1)\n",
    "print('Validation accuracy: ', (y_pred == y).mean())"
   ]
  },
  {
   "cell_type": "markdown",
   "metadata": {},
   "source": [
    "# Saliency Maps\n",
    "Using this pretrained model, we will compute class saliency maps(类显著度图) as described in Section 3.1 of [1].\n",
    "\n",
    "As mentioned in Section 2 of the paper, you should compute the gradient of the image with respect to the unnormalized class score, not with respect to the normalized class probability.\n",
    "\n",
    "You will need to use the `forward` and `backward` methods of the `PretrainedCNN` class to compute gradients with respect to the image. Open the file `cs231n/classifiers/pretrained_cnn.py` and read the documentation for these methods to make sure you know how they work. For example usage, you can see the `loss` method. Make sure to run the model in `test` mode when computing saliency maps.\n",
    "\n",
    "[1] Karen Simonyan, Andrea Vedaldi, and Andrew Zisserman. \"<a href='https://arxiv.org/pdf/1312.6034.pdf'>Deep Inside Convolutional Networks: Visualising Image Classification Models and Saliency Maps</a>\", ICLR Workshop 2014."
   ]
  },
  {
   "cell_type": "code",
   "execution_count": 7,
   "metadata": {
    "collapsed": false
   },
   "outputs": [],
   "source": [
    "def compute_saliency_maps(X, y, model):\n",
    "  \"\"\"\n",
    "  Compute a class saliency map using the model for images X and labels y.\n",
    "  \n",
    "  Input:\n",
    "  - X: Input images, of shape (N, 3, H, W)\n",
    "  - y: Labels for X, of shape (N,)\n",
    "  - model: A PretrainedCNN that will be used to compute the saliency map.\n",
    "  \n",
    "  Returns:\n",
    "  - saliency: An array of shape (N, H, W) giving the saliency maps for the input\n",
    "    images.\n",
    "  \"\"\"\n",
    "  N, _, H, W  = X.shape\n",
    "  saliency = np.zeros((N,H,W))\n",
    "  ##############################################################################\n",
    "  # TODO: Implement this function. You should use the forward and backward     #\n",
    "  # methods of the PretrainedCNN class, and compute gradients with respect to  #\n",
    "  # the unnormalized class score of the ground-truth classes in y.             #\n",
    "  ##############################################################################\n",
    "  scores, cache = model.forward(X, mode='test')\n",
    "  dscores = np.zeros_like(scores)\n",
    "  dscores[np.arange(X.shape[0]), y] = 1\n",
    "  dX, _ = model.backward(dscores, cache)\n",
    "  saliency = np.max(np.abs(dX), axis=1)\n",
    "  ##############################################################################\n",
    "  #                             END OF YOUR CODE                               #\n",
    "  ##############################################################################\n",
    "  return saliency"
   ]
  },
  {
   "cell_type": "markdown",
   "metadata": {},
   "source": [
    "Once you have completed the implementation in the cell above, run the following to visualize some class saliency maps on the validation set of TinyImageNet-100-A."
   ]
  },
  {
   "cell_type": "code",
   "execution_count": 9,
   "metadata": {
    "collapsed": false
   },
   "outputs": [
    {
     "ename": "ValueError",
     "evalue": "operands could not be broadcast together with shapes (3,64,64) (3,) ",
     "output_type": "error",
     "traceback": [
      "\u001b[0;31m---------------------------------------------------------------------------\u001b[0m",
      "\u001b[0;31mValueError\u001b[0m                                Traceback (most recent call last)",
      "\u001b[0;32m<ipython-input-9-47fba8fc1b57>\u001b[0m in \u001b[0;36m<module>\u001b[0;34m()\u001b[0m\n\u001b[1;32m     22\u001b[0m \u001b[0;31m# Show some random images\u001b[0m\u001b[0;34m\u001b[0m\u001b[0;34m\u001b[0m\u001b[0m\n\u001b[1;32m     23\u001b[0m \u001b[0mmask\u001b[0m \u001b[0;34m=\u001b[0m \u001b[0mnp\u001b[0m\u001b[0;34m.\u001b[0m\u001b[0mrandom\u001b[0m\u001b[0;34m.\u001b[0m\u001b[0mrandint\u001b[0m\u001b[0;34m(\u001b[0m\u001b[0mdata\u001b[0m\u001b[0;34m[\u001b[0m\u001b[0;34m'X_val'\u001b[0m\u001b[0;34m]\u001b[0m\u001b[0;34m.\u001b[0m\u001b[0mshape\u001b[0m\u001b[0;34m[\u001b[0m\u001b[0;36m0\u001b[0m\u001b[0;34m]\u001b[0m\u001b[0;34m,\u001b[0m \u001b[0msize\u001b[0m\u001b[0;34m=\u001b[0m\u001b[0;36m5\u001b[0m\u001b[0;34m)\u001b[0m\u001b[0;34m\u001b[0m\u001b[0m\n\u001b[0;32m---> 24\u001b[0;31m \u001b[0mshow_saliency_maps\u001b[0m\u001b[0;34m(\u001b[0m\u001b[0mmask\u001b[0m\u001b[0;34m)\u001b[0m\u001b[0;34m\u001b[0m\u001b[0m\n\u001b[0m\u001b[1;32m     25\u001b[0m \u001b[0;34m\u001b[0m\u001b[0m\n\u001b[1;32m     26\u001b[0m \u001b[0;31m# These are some cherry-picked images that should give good results\u001b[0m\u001b[0;34m\u001b[0m\u001b[0;34m\u001b[0m\u001b[0m\n",
      "\u001b[0;32m<ipython-input-9-47fba8fc1b57>\u001b[0m in \u001b[0;36mshow_saliency_maps\u001b[0;34m(mask)\u001b[0m\n\u001b[1;32m      8\u001b[0m   \u001b[0;32mfor\u001b[0m \u001b[0mi\u001b[0m \u001b[0;32min\u001b[0m \u001b[0mrange\u001b[0m\u001b[0;34m(\u001b[0m\u001b[0mmask\u001b[0m\u001b[0;34m.\u001b[0m\u001b[0msize\u001b[0m\u001b[0;34m)\u001b[0m\u001b[0;34m:\u001b[0m\u001b[0;34m\u001b[0m\u001b[0m\n\u001b[1;32m      9\u001b[0m     \u001b[0mplt\u001b[0m\u001b[0;34m.\u001b[0m\u001b[0msubplot\u001b[0m\u001b[0;34m(\u001b[0m\u001b[0;36m2\u001b[0m\u001b[0;34m,\u001b[0m \u001b[0mmask\u001b[0m\u001b[0;34m.\u001b[0m\u001b[0msize\u001b[0m\u001b[0;34m,\u001b[0m \u001b[0mi\u001b[0m \u001b[0;34m+\u001b[0m \u001b[0;36m1\u001b[0m\u001b[0;34m)\u001b[0m\u001b[0;34m\u001b[0m\u001b[0m\n\u001b[0;32m---> 10\u001b[0;31m     \u001b[0mplt\u001b[0m\u001b[0;34m.\u001b[0m\u001b[0mimshow\u001b[0m\u001b[0;34m(\u001b[0m\u001b[0mdeprocess_image\u001b[0m\u001b[0;34m(\u001b[0m\u001b[0mX\u001b[0m\u001b[0;34m[\u001b[0m\u001b[0mi\u001b[0m\u001b[0;34m]\u001b[0m\u001b[0;34m,\u001b[0m \u001b[0mdata\u001b[0m\u001b[0;34m[\u001b[0m\u001b[0;34m'mean_image'\u001b[0m\u001b[0;34m]\u001b[0m\u001b[0;34m)\u001b[0m\u001b[0;34m)\u001b[0m\u001b[0;34m\u001b[0m\u001b[0m\n\u001b[0m\u001b[1;32m     11\u001b[0m     \u001b[0mplt\u001b[0m\u001b[0;34m.\u001b[0m\u001b[0mtitle\u001b[0m\u001b[0;34m(\u001b[0m\u001b[0mdata\u001b[0m\u001b[0;34m[\u001b[0m\u001b[0;34m'class_names'\u001b[0m\u001b[0;34m]\u001b[0m\u001b[0;34m[\u001b[0m\u001b[0my\u001b[0m\u001b[0;34m[\u001b[0m\u001b[0mi\u001b[0m\u001b[0;34m]\u001b[0m\u001b[0;34m]\u001b[0m\u001b[0;34m[\u001b[0m\u001b[0;36m0\u001b[0m\u001b[0;34m]\u001b[0m\u001b[0;34m)\u001b[0m\u001b[0;34m\u001b[0m\u001b[0m\n\u001b[1;32m     12\u001b[0m     \u001b[0mplt\u001b[0m\u001b[0;34m.\u001b[0m\u001b[0maxis\u001b[0m\u001b[0;34m(\u001b[0m\u001b[0;34m'off'\u001b[0m\u001b[0;34m)\u001b[0m\u001b[0;34m\u001b[0m\u001b[0m\n",
      "\u001b[0;32m/home/ciel/Project/CS231n-2017/assignment3/cs231n/image_utils.py\u001b[0m in \u001b[0;36mdeprocess_image\u001b[0;34m(img, rescale)\u001b[0m\n\u001b[1;32m     47\u001b[0m \u001b[0;32mdef\u001b[0m \u001b[0mdeprocess_image\u001b[0m\u001b[0;34m(\u001b[0m\u001b[0mimg\u001b[0m\u001b[0;34m,\u001b[0m \u001b[0mrescale\u001b[0m\u001b[0;34m=\u001b[0m\u001b[0;32mFalse\u001b[0m\u001b[0;34m)\u001b[0m\u001b[0;34m:\u001b[0m\u001b[0;34m\u001b[0m\u001b[0m\n\u001b[1;32m     48\u001b[0m     \u001b[0;34m\"\"\"Undo preprocessing on an image and convert back to uint8.\"\"\"\u001b[0m\u001b[0;34m\u001b[0m\u001b[0m\n\u001b[0;32m---> 49\u001b[0;31m     \u001b[0mimg\u001b[0m \u001b[0;34m=\u001b[0m \u001b[0;34m(\u001b[0m\u001b[0mimg\u001b[0m \u001b[0;34m*\u001b[0m \u001b[0mSQUEEZENET_STD\u001b[0m \u001b[0;34m+\u001b[0m \u001b[0mSQUEEZENET_MEAN\u001b[0m\u001b[0;34m)\u001b[0m\u001b[0;34m\u001b[0m\u001b[0m\n\u001b[0m\u001b[1;32m     50\u001b[0m     \u001b[0;32mif\u001b[0m \u001b[0mrescale\u001b[0m\u001b[0;34m:\u001b[0m\u001b[0;34m\u001b[0m\u001b[0m\n\u001b[1;32m     51\u001b[0m         \u001b[0mvmin\u001b[0m\u001b[0;34m,\u001b[0m \u001b[0mvmax\u001b[0m \u001b[0;34m=\u001b[0m \u001b[0mimg\u001b[0m\u001b[0;34m.\u001b[0m\u001b[0mmin\u001b[0m\u001b[0;34m(\u001b[0m\u001b[0;34m)\u001b[0m\u001b[0;34m,\u001b[0m \u001b[0mimg\u001b[0m\u001b[0;34m.\u001b[0m\u001b[0mmax\u001b[0m\u001b[0;34m(\u001b[0m\u001b[0;34m)\u001b[0m\u001b[0;34m\u001b[0m\u001b[0m\n",
      "\u001b[0;31mValueError\u001b[0m: operands could not be broadcast together with shapes (3,64,64) (3,) "
     ]
    },
    {
     "data": {
      "image/png": "[encoded data removed]",
      "text/plain": [
       "<matplotlib.figure.Figure at 0x7f9a3a0f2080>"
      ]
     },
     "metadata": {},
     "output_type": "display_data"
    }
   ],
   "source": [
    "def show_saliency_maps(mask):\n",
    "  mask = np.asarray(mask)\n",
    "  X = data['X_val'][mask]\n",
    "  y = data['y_val'][mask]\n",
    "\n",
    "  saliency = compute_saliency_maps(X, y, model)\n",
    "\n",
    "  for i in range(mask.size):\n",
    "    plt.subplot(2, mask.size, i + 1)\n",
    "    plt.imshow(deprocess_image(X[i], data['mean_image']))\n",
    "    plt.title(data['class_names'][y[i]][0])\n",
    "    plt.axis('off')\n",
    "    \n",
    "    plt.subplot(2, mask.size, mask.size + i + 1)\n",
    "    plt.imshow(saliency[i])\n",
    "    plt.title(mask[i])\n",
    "    plt.axis('off')\n",
    "    \n",
    "  plt.gcf().set_size_inches(10, 4)\n",
    "  plt.show()\n",
    "\n",
    "# Show some random images\n",
    "mask = np.random.randint(data['X_val'].shape[0], size=5)\n",
    "show_saliency_maps(mask)\n",
    "  \n",
    "# These are some cherry-picked images that should give good results\n",
    "show_saliency_maps([128, 3225, 2417, 1640, 4619])"
   ]
  },
  {
   "cell_type": "markdown",
   "metadata": {},
   "source": [
    "# Fooling Images\n",
    "We can also use image gradients to generate \"fooling images\" as discussed in [2]. Given an image and a target class, we can perform gradient ascent over the image to maximize the target class, stopping when the network classifies the image as the target class. Implement the following function to generate fooling images.\n",
    "\n",
    "[2] Szegedy et al, \"<a href='https://arxiv.org/pdf/1312.6199.pdf'>Intriguing properties of neural networks</a>\", ICLR 2014"
   ]
  },
  {
   "cell_type": "code",
   "execution_count": 47,
   "metadata": {
    "collapsed": true
   },
   "outputs": [],
   "source": [
    "def make_fooling_image(X, target_y, model):\n",
    "  \"\"\"\n",
    "  Generate a fooling image that is close to X, but that the model classifies\n",
    "  as target_y.\n",
    "  \n",
    "  Inputs:\n",
    "  - X: Input image, of shape (1, 3, 64, 64)\n",
    "  - target_y: An integer in the range [0, 100)\n",
    "  - model: A PretrainedCNN\n",
    "  \n",
    "  Returns:\n",
    "  - X_fooling: An image that is close to X, but that is classifed as target_y\n",
    "    by the model.\n",
    "  \"\"\"\n",
    "  X_fooling = X.copy()\n",
    "  ##############################################################################\n",
    "  # TODO: Generate a fooling image X_fooling that the model will classify as   #\n",
    "  # the class target_y. Use gradient ascent on the target class score, using   #\n",
    "  # the model.forward method to compute scores and the model.backward method   #\n",
    "  # to compute image gradients.                                                #\n",
    "  #                                                                            #\n",
    "  # HINT: For most examples, you should be able to generate a fooling image    #\n",
    "  # in fewer than 100 iterations of gradient ascent.                           #\n",
    "  ##############################################################################\n",
    "  lr = 200\n",
    "  pred_y = 100\n",
    "  i = 0\n",
    "  while pred_y != target_y or (i<=200):\n",
    "      scores, cache = model.forward(X_fooling)\n",
    "      pred_y = np.argmax(scores , axis=1)\n",
    "      dscores = np.zeros_like(scores)\n",
    "      dscores[:, target_y] = 1\n",
    "      dX, _ = model.backward(dscores, cache)\n",
    "      X_fooling += lr*dX # gradient ascent!!!\n",
    "      i+=1\n",
    "  print('iteration:'+str(i))\n",
    "  ##############################################################################\n",
    "  #                             END OF YOUR CODE                               #\n",
    "  ##############################################################################\n",
    "  return X_fooling"
   ]
  },
  {
   "cell_type": "markdown",
   "metadata": {},
   "source": [
    "Run the following to choose a random validation set image that is correctly classified by the network, and then make a fooling image."
   ]
  },
  {
   "cell_type": "code",
   "execution_count": 49,
   "metadata": {
    "collapsed": false
   },
   "outputs": [
    {
     "name": "stdout",
     "output_type": "stream",
     "text": [
      "iteration:191\n"
     ]
    },
    {
     "name": "stderr",
     "output_type": "stream",
     "text": [
      "/home/ciel/anaconda2/lib/python2.7/site-packages/ipykernel/__main__.py:20: VisibleDeprecationWarning: converting an array with ndim > 0 to an index will result in an error in the future\n"
     ]
    },
    {
     "data": {
      "image/png": "[encoded data removed]",
      "text/plain": [
       "<matplotlib.figure.Figure at 0x7fed3a07b610>"
      ]
     },
     "metadata": {},
     "output_type": "display_data"
    }
   ],
   "source": [
    "# Find a correctly classified validation image\n",
    "while True:\n",
    "  i = np.random.randint(data['X_val'].shape[0])\n",
    "  X = data['X_val'][i:i+1]\n",
    "  y = data['y_val'][i:i+1]\n",
    "  y_pred = model.loss(X)[0].argmax()\n",
    "  if y_pred == y: break\n",
    "\n",
    "target_y = 67\n",
    "X_fooling = make_fooling_image(X, target_y, model)\n",
    "\n",
    "# Make sure that X_fooling is classified as y_target\n",
    "scores = model.loss(X_fooling)\n",
    "assert scores[0].argmax() == target_y, 'The network is not fooled!'\n",
    "\n",
    "# Show original image, fooling image, and difference\n",
    "plt.subplot(1, 3, 1)\n",
    "plt.imshow(deprocess_image(X, data['mean_image']))\n",
    "plt.axis('off')\n",
    "plt.title(data['class_names'][y][0])\n",
    "plt.subplot(1, 3, 2)\n",
    "plt.imshow(deprocess_image(X_fooling, data['mean_image'], renorm=True))\n",
    "plt.title(data['class_names'][target_y][0])\n",
    "plt.axis('off')\n",
    "plt.subplot(1, 3, 3)\n",
    "plt.title('Difference')\n",
    "plt.imshow(deprocess_image(X - X_fooling, data['mean_image']))\n",
    "plt.axis('off')\n",
    "plt.show()"
   ]
  },
  {
   "cell_type": "code",
   "execution_count": null,
   "metadata": {
    "collapsed": true
   },
   "outputs": [],
   "source": []
  }
 ],
 "metadata": {
  "anaconda-cloud": {},
  "kernelspec": {
   "display_name": "Python 3",
   "language": "python",
   "name": "python3"
  },
  "language_info": {
   "codemirror_mode": {
    "name": "ipython",
    "version": 3
   },
   "file_extension": ".py",
   "mimetype": "text/x-python",
   "name": "python",
   "nbconvert_exporter": "python",
   "pygments_lexer": "ipython3",
   "version": "3.6.0"
  }
 },
 "nbformat": 4,
 "nbformat_minor": 0
}
